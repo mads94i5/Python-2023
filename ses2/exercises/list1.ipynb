{
 "cells": [
  {
   "cell_type": "code",
   "execution_count": 100,
   "metadata": {},
   "outputs": [],
   "source": [
    "# Copyright 2010 Google Inc.\n",
    "# Licensed under the Apache License, Version 2.0\n",
    "# http://www.apache.org/licenses/LICENSE-2.0\n",
    "\n",
    "# Basic list & tuples exercises\n",
    "# Fill in the code for the functions below. main() is already set up\n",
    "# to call the functions with a few different inputs,\n",
    "# printing 'OK' when each function is correct.\n",
    "# The starter code for each function includes a 'return'\n",
    "# which is just a placeholder for your code.\n",
    "# It's ok if you do not complete all the functions, and there\n",
    "# are some additional functions to try in list2.py."
   ]
  },
  {
   "cell_type": "code",
   "execution_count": 101,
   "metadata": {},
   "outputs": [],
   "source": [
    "# A. match_ends\n",
    "# Given a list of strings, return the count of the number of\n",
    "# strings where the string length is 2 or more and the first\n",
    "# and last chars of the string are the same.\n",
    "# Note: python does not have a ++ operator, but += works.\n",
    "def match_ends(words):\n",
    "    count = 0\n",
    "    for w in words:\n",
    "        if len(w) >= 2 and w[0] == w[-1]:\n",
    "            count += 1\n",
    "    return count"
   ]
  },
  {
   "cell_type": "code",
   "execution_count": 102,
   "metadata": {},
   "outputs": [],
   "source": [
    "# B. front_x\n",
    "# Given a list of strings, return a list with the strings\n",
    "# in sorted order, except group all the strings that begin with 'x' first.\n",
    "# e.g. ['mix', 'xyz', 'apple', 'xanadu', 'aardvark'] yields\n",
    "# ['xanadu', 'xyz', 'aardvark', 'apple', 'mix']\n",
    "# Hint: this can be done by making 2 lists and sorting each of them\n",
    "# before combining them.\n",
    "def starts_with_x(word):\n",
    "    if word.startswith('x'):\n",
    "        return (0, word)\n",
    "    else:\n",
    "        return (1, word)\n",
    "\n",
    "def front_x(words):\n",
    "    x_words = sorted(words, key=starts_with_x)\n",
    "    return x_words\n",
    "\n",
    "words_list = ['apple', 'banana', 'xenon', 'orange', 'xylophone']\n",
    "\n",
    "result = front_x(words_list)\n",
    "\n",
    "print(result)\n",
    "# Output: ['xenon', 'xylophone', 'apple', 'banana', 'orange']"
   ]
  },
  {
   "cell_type": "code",
   "execution_count": 103,
   "metadata": {},
   "outputs": [],
   "source": [
    "# C. sort_last\n",
    "# Given a list of non-empty tuples, return a list sorted in increasing\n",
    "# order by the last element in each tuple.\n",
    "# e.g. [(1, 7), (1, 3), (3, 4, 5), (2, 2)] yields\n",
    "# [(2, 2), (1, 3), (3, 4, 5), (1, 7)]\n",
    "# Hint: use a custom key= function to extract the last element form each tuple.\n",
    "\n",
    "def last_element(tuple):\n",
    "    return tuple[-1]\n",
    "\n",
    "def sort_last(tuples):\n",
    "    return sorted(tuples, key=last_element)"
   ]
  },
  {
   "cell_type": "code",
   "execution_count": 104,
   "metadata": {},
   "outputs": [],
   "source": [
    "# Simple provided test() function used in main() to print\n",
    "# what each function returns vs. what it's supposed to return.\n",
    "def test(got, expected):\n",
    "  if got == expected:\n",
    "    prefix = ' OK '\n",
    "  else:\n",
    "    prefix = '  X '\n",
    "  print (f'{prefix} got: {got} expected: {expected}')"
   ]
  },
  {
   "cell_type": "code",
   "execution_count": 105,
   "metadata": {},
   "outputs": [
    {
     "name": "stdout",
     "output_type": "stream",
     "text": [
      "match_ends\n",
      " OK  got: 3 expected: 3\n",
      " OK  got: 2 expected: 2\n",
      " OK  got: 1 expected: 1\n",
      "\n",
      "front_x\n",
      " OK  got: ['xaa', 'xzz', 'axx', 'bbb', 'ccc'] expected: ['xaa', 'xzz', 'axx', 'bbb', 'ccc']\n",
      " OK  got: ['xaa', 'xcc', 'aaa', 'bbb', 'ccc'] expected: ['xaa', 'xcc', 'aaa', 'bbb', 'ccc']\n",
      " OK  got: ['xanadu', 'xyz', 'aardvark', 'apple', 'mix'] expected: ['xanadu', 'xyz', 'aardvark', 'apple', 'mix']\n",
      "\n",
      "sort_last\n",
      " OK  got: [(2, 1), (3, 2), (1, 3)] expected: [(2, 1), (3, 2), (1, 3)]\n",
      " OK  got: [(3, 1), (1, 2), (2, 3)] expected: [(3, 1), (1, 2), (2, 3)]\n",
      " OK  got: [(2, 2), (1, 3), (3, 4, 5), (1, 7)] expected: [(2, 2), (1, 3), (3, 4, 5), (1, 7)]\n"
     ]
    }
   ],
   "source": [
    "# Calls the above functions with interesting inputs.\n",
    "def main():\n",
    "  print ('match_ends')\n",
    "  test(match_ends(['aba', 'xyz', 'aa', 'x', 'bbb']), 3)\n",
    "  test(match_ends(['', 'x', 'xy', 'xyx', 'xx']), 2)\n",
    "  test(match_ends(['aaa', 'be', 'abc', 'hello']), 1)\n",
    "\n",
    "  print()\n",
    "  print ('front_x')\n",
    "  test(front_x(['bbb', 'ccc', 'axx', 'xzz', 'xaa']),\n",
    "       ['xaa', 'xzz', 'axx', 'bbb', 'ccc'])\n",
    "  test(front_x(['ccc', 'bbb', 'aaa', 'xcc', 'xaa']),\n",
    "       ['xaa', 'xcc', 'aaa', 'bbb', 'ccc'])\n",
    "  test(front_x(['mix', 'xyz', 'apple', 'xanadu', 'aardvark']),\n",
    "       ['xanadu', 'xyz', 'aardvark', 'apple', 'mix'])\n",
    "\n",
    "       \n",
    "  print()\n",
    "  print ('sort_last')\n",
    "  test(sort_last([(1, 3), (3, 2), (2, 1)]),\n",
    "       [(2, 1), (3, 2), (1, 3)])\n",
    "  test(sort_last([(2, 3), (1, 2), (3, 1)]),\n",
    "       [(3, 1), (1, 2), (2, 3)])\n",
    "  test(sort_last([(1, 7), (1, 3), (3, 4, 5), (2, 2)]),\n",
    "       [(2, 2), (1, 3), (3, 4, 5), (1, 7)])\n",
    "\n",
    "main()"
   ]
  }
 ],
 "metadata": {
  "kernelspec": {
   "display_name": ".venv",
   "language": "python",
   "name": "python3"
  },
  "language_info": {
   "codemirror_mode": {
    "name": "ipython",
    "version": 3
   },
   "file_extension": ".py",
   "mimetype": "text/x-python",
   "name": "python",
   "nbconvert_exporter": "python",
   "pygments_lexer": "ipython3",
   "version": "3.11.4"
  },
  "orig_nbformat": 4
 },
 "nbformat": 4,
 "nbformat_minor": 2
}
