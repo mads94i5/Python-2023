{
 "cells": [
  {
   "cell_type": "markdown",
   "metadata": {},
   "source": [
    "# Generators\n",
    "You can create generators in 3 ways\n",
    "* Itterator classes\n",
    "* Generator functions\n",
    "* Genreator expression"
   ]
  },
  {
   "cell_type": "markdown",
   "metadata": {},
   "source": [
    "A gernerator is an object that follows the iterator protocol.\n",
    "* Should implement \n",
    "    * \\_\\_iter\\_\\_ \n",
    "    * \\_\\_next\\_\\_\n",
    "    * raise Stopiteration\n",
    "\n",
    "this will make it able to work in code like a for loop\n",
    "\n",
    "```\n",
    "    for i in range(10):\n",
    "        print(i)\n",
    "\n",
    "    for i in [1, 2, 3, 4, 5]:\n",
    "        print(i)\n",
    "```\n",
    "\n",
    "It will react with the build in functions:\n",
    "* iter()\n",
    "* next()\n"
   ]
  },
  {
   "cell_type": "code",
   "execution_count": null,
   "metadata": {},
   "outputs": [],
   "source": [
    "l = [1, 2, 3]\n",
    "it = iter(l)"
   ]
  },
  {
   "cell_type": "code",
   "execution_count": null,
   "metadata": {},
   "outputs": [],
   "source": [
    "next(it)"
   ]
  },
  {
   "cell_type": "code",
   "execution_count": null,
   "metadata": {},
   "outputs": [],
   "source": [
    "demolist = [1, 2, 3]\n",
    "for i in range(10):\n",
    "    print(i)"
   ]
  },
  {
   "cell_type": "markdown",
   "metadata": {},
   "source": [
    "## 1. Iterator classes"
   ]
  },
  {
   "cell_type": "code",
   "execution_count": 125,
   "metadata": {},
   "outputs": [],
   "source": [
    "class compute:\n",
    "    def __init__(self, num):\n",
    "        self.num = num      \n",
    "    def __iter__(self):\n",
    "        self.start = 0\n",
    "        return self\n",
    "    def __next__(self):\n",
    "        rv = self.start\n",
    "        self.start += 1\n",
    "        if self.start > self.num:\n",
    "            raise StopIteration('You reached the end!')\n",
    "        return rv"
   ]
  },
  {
   "cell_type": "code",
   "execution_count": 128,
   "metadata": {},
   "outputs": [],
   "source": [
    "it = iter(compute(3))"
   ]
  },
  {
   "cell_type": "code",
   "execution_count": 133,
   "metadata": {},
   "outputs": [
    {
     "ename": "StopIteration",
     "evalue": "You reached the end!",
     "output_type": "error",
     "traceback": [
      "\u001b[0;31m---------------------------------------------------------------------------\u001b[0m",
      "\u001b[0;31mStopIteration\u001b[0m                             Traceback (most recent call last)",
      "\u001b[1;32m/Users/clbo/Tresors/KEA/python/repos/_fall2023-code-examples-from-teachings/ses10/generators.ipynb Cell 9\u001b[0m line \u001b[0;36m1\n\u001b[0;32m----> <a href='vscode-notebook-cell:/Users/clbo/Tresors/KEA/python/repos/_fall2023-code-examples-from-teachings/ses10/generators.ipynb#X22sZmlsZQ%3D%3D?line=0'>1</a>\u001b[0m \u001b[39mnext\u001b[39;49m(it)\n",
      "\u001b[1;32m/Users/clbo/Tresors/KEA/python/repos/_fall2023-code-examples-from-teachings/ses10/generators.ipynb Cell 9\u001b[0m line \u001b[0;36m1\n\u001b[1;32m      <a href='vscode-notebook-cell:/Users/clbo/Tresors/KEA/python/repos/_fall2023-code-examples-from-teachings/ses10/generators.ipynb#X22sZmlsZQ%3D%3D?line=8'>9</a>\u001b[0m \u001b[39mself\u001b[39m\u001b[39m.\u001b[39mstart \u001b[39m+\u001b[39m\u001b[39m=\u001b[39m \u001b[39m1\u001b[39m\n\u001b[1;32m     <a href='vscode-notebook-cell:/Users/clbo/Tresors/KEA/python/repos/_fall2023-code-examples-from-teachings/ses10/generators.ipynb#X22sZmlsZQ%3D%3D?line=9'>10</a>\u001b[0m \u001b[39mif\u001b[39;00m \u001b[39mself\u001b[39m\u001b[39m.\u001b[39mstart \u001b[39m>\u001b[39m \u001b[39mself\u001b[39m\u001b[39m.\u001b[39mnum:\n\u001b[0;32m---> <a href='vscode-notebook-cell:/Users/clbo/Tresors/KEA/python/repos/_fall2023-code-examples-from-teachings/ses10/generators.ipynb#X22sZmlsZQ%3D%3D?line=10'>11</a>\u001b[0m     \u001b[39mraise\u001b[39;00m \u001b[39mStopIteration\u001b[39;00m(\u001b[39m'\u001b[39m\u001b[39mYou reached the end!\u001b[39m\u001b[39m'\u001b[39m)\n\u001b[1;32m     <a href='vscode-notebook-cell:/Users/clbo/Tresors/KEA/python/repos/_fall2023-code-examples-from-teachings/ses10/generators.ipynb#X22sZmlsZQ%3D%3D?line=11'>12</a>\u001b[0m \u001b[39mreturn\u001b[39;00m rv\n",
      "\u001b[0;31mStopIteration\u001b[0m: You reached the end!"
     ]
    }
   ],
   "source": [
    "next(it)"
   ]
  },
  {
   "cell_type": "code",
   "execution_count": null,
   "metadata": {},
   "outputs": [],
   "source": [
    "for i in compute():\n",
    "    print(i)"
   ]
  },
  {
   "cell_type": "markdown",
   "metadata": {},
   "source": [
    "## 2. Generator functions"
   ]
  },
  {
   "cell_type": "code",
   "execution_count": null,
   "metadata": {},
   "outputs": [],
   "source": [
    "def compute(num):\n",
    "    for i in range(num):\n",
    "        yield i"
   ]
  },
  {
   "cell_type": "code",
   "execution_count": null,
   "metadata": {},
   "outputs": [],
   "source": [
    "it = compute(10)\n"
   ]
  },
  {
   "cell_type": "code",
   "execution_count": null,
   "metadata": {},
   "outputs": [],
   "source": [
    "next(it)"
   ]
  },
  {
   "cell_type": "markdown",
   "metadata": {},
   "source": [
    "## 3. Generator expression"
   ]
  },
  {
   "cell_type": "code",
   "execution_count": null,
   "metadata": {},
   "outputs": [],
   "source": [
    "it = ( i for i in range(10)  )"
   ]
  },
  {
   "cell_type": "code",
   "execution_count": null,
   "metadata": {},
   "outputs": [],
   "source": [
    "next(it)"
   ]
  }
 ],
 "metadata": {
  "kernelspec": {
   "display_name": ".venv",
   "language": "python",
   "name": "python3"
  },
  "language_info": {
   "codemirror_mode": {
    "name": "ipython",
    "version": 3
   },
   "file_extension": ".py",
   "mimetype": "text/x-python",
   "name": "python",
   "nbconvert_exporter": "python",
   "pygments_lexer": "ipython3",
   "version": "3.11.6"
  }
 },
 "nbformat": 4,
 "nbformat_minor": 2
}
