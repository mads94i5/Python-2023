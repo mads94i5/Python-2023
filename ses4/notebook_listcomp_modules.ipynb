{
 "cells": [
  {
   "cell_type": "markdown",
   "metadata": {
    "slideshow": {
     "slide_type": "slide"
    }
   },
   "source": [
    "# List Comprehensions"
   ]
  },
  {
   "cell_type": "markdown",
   "metadata": {},
   "source": [
    "### Basic structure"
   ]
  },
  {
   "cell_type": "markdown",
   "metadata": {
    "slideshow": {
     "slide_type": "-"
    }
   },
   "source": [
    "List Comprehensions provide an elegant way to create new lists.    \n",
    "The following shows the basic structure of a list comprehension:"
   ]
  },
  {
   "cell_type": "code",
   "execution_count": 31,
   "metadata": {
    "slideshow": {
     "slide_type": "-"
    }
   },
   "outputs": [
    {
     "data": {
      "text/plain": [
       "[0, 1, 2, 3, 4, 5, 6, 7, 8, 9]"
      ]
     },
     "execution_count": 31,
     "metadata": {},
     "output_type": "execute_result"
    }
   ],
   "source": [
    "[ i  for i in range(10)      ]"
   ]
  },
  {
   "cell_type": "markdown",
   "metadata": {},
   "source": [
    "### For loop or list comprehension"
   ]
  },
  {
   "cell_type": "markdown",
   "metadata": {
    "slideshow": {
     "slide_type": "slide"
    }
   },
   "source": [
    "Et for loop der skrives som dette:"
   ]
  },
  {
   "cell_type": "code",
   "execution_count": 33,
   "metadata": {
    "slideshow": {
     "slide_type": "-"
    }
   },
   "outputs": [
    {
     "data": {
      "text/plain": [
       "[0, 1, 2, 3, 4, 5, 6, 7, 8, 9]"
      ]
     },
     "execution_count": 33,
     "metadata": {},
     "output_type": "execute_result"
    }
   ],
   "source": [
    "l = []\n",
    "for i in range(10):\n",
    "    l.append(i)\n",
    "l"
   ]
  },
  {
   "cell_type": "markdown",
   "metadata": {
    "slideshow": {
     "slide_type": "-"
    }
   },
   "source": [
    "Kunne skrives mere elegangt med en list comprehension"
   ]
  },
  {
   "cell_type": "code",
   "execution_count": 13,
   "metadata": {
    "slideshow": {
     "slide_type": "-"
    }
   },
   "outputs": [
    {
     "data": {
      "text/plain": [
       "[1, 2, 3, 4, 5, 6, 7, 8, 9]"
      ]
     },
     "execution_count": 13,
     "metadata": {},
     "output_type": "execute_result"
    }
   ],
   "source": [
    "[ i  for i in range(1, 10)  ]"
   ]
  },
  {
   "cell_type": "markdown",
   "metadata": {
    "slideshow": {
     "slide_type": "slide"
    }
   },
   "source": [
    "## STUDENTS 10 MINUTES TASK \n",
    "**(Ex 1: Alphabet List Comprehensions)**\n",
    "\n",
    "1. Create a list of capital letters in the english alphabet\n",
    "2. Create a list of capital letter from the english aplhabet, but exclude 4 with the Unicode code point of either 70, 75, 80, 85.\n",
    "3. Create a list of capital letter from from the english aplhabet, but exclude every second between F & O"
   ]
  },
  {
   "cell_type": "code",
   "execution_count": 7,
   "metadata": {},
   "outputs": [
    {
     "data": {
      "text/plain": [
       "['A',\n",
       " 'B',\n",
       " 'C',\n",
       " 'D',\n",
       " 'E',\n",
       " 'F',\n",
       " 'H',\n",
       " 'J',\n",
       " 'L',\n",
       " 'N',\n",
       " 'O',\n",
       " 'P',\n",
       " 'Q',\n",
       " 'R',\n",
       " 'S',\n",
       " 'T',\n",
       " 'U',\n",
       " 'V',\n",
       " 'W',\n",
       " 'X',\n",
       " 'Y',\n",
       " 'Z']"
      ]
     },
     "execution_count": 7,
     "metadata": {},
     "output_type": "execute_result"
    }
   ],
   "source": [
    "# task 1\n",
    "import string\n",
    "# [i for i in string.ascii_uppercase]\n",
    "\n",
    "# [ chr(i) for i in range(65, 91) ]\n",
    "\n",
    "# [ chr(i) for i in range(ord(\"A\"), ord(\"Z\")+1) ]\n",
    "\n",
    "# task 2\n",
    "\n",
    "# [ chr(i) for i in range(ord(\"A\"), ord(\"Z\")+1) if i not in (70, 75, 80, 85) ]\n",
    "\n",
    "# task 3\n",
    "\n",
    "[ chr(i) for i in range(ord(\"A\"), ord(\"Z\")+1) if i not in range(71, 79, 2) ]"
   ]
  },
  {
   "cell_type": "markdown",
   "metadata": {
    "slideshow": {
     "slide_type": "slide"
    }
   },
   "source": [
    "## if, else\n",
    "**if**"
   ]
  },
  {
   "cell_type": "code",
   "execution_count": 14,
   "metadata": {
    "slideshow": {
     "slide_type": "-"
    }
   },
   "outputs": [
    {
     "data": {
      "text/plain": [
       "[2, 4, 6, 8]"
      ]
     },
     "execution_count": 14,
     "metadata": {},
     "output_type": "execute_result"
    }
   ],
   "source": [
    "[x for x in range(1, 10) if x%2 == 0]"
   ]
  },
  {
   "cell_type": "markdown",
   "metadata": {
    "slideshow": {
     "slide_type": "slide"
    }
   },
   "source": [
    "**else**"
   ]
  },
  {
   "cell_type": "code",
   "execution_count": 15,
   "metadata": {
    "slideshow": {
     "slide_type": "-"
    }
   },
   "outputs": [
    {
     "data": {
      "text/plain": [
       "['un-even', 2, 'un-even', 4, 'un-even', 6, 'un-even', 8, 'un-even']"
      ]
     },
     "execution_count": 15,
     "metadata": {},
     "output_type": "execute_result"
    }
   ],
   "source": [
    "[x  if x%2 == 0 else 'un-even'  for x in range(1, 10)]"
   ]
  },
  {
   "cell_type": "markdown",
   "metadata": {
    "slideshow": {
     "slide_type": "slide"
    }
   },
   "source": [
    "## Nested for loops\n",
    "Like you can do a nested for loop"
   ]
  },
  {
   "cell_type": "code",
   "execution_count": 16,
   "metadata": {
    "slideshow": {
     "slide_type": "-"
    }
   },
   "outputs": [
    {
     "data": {
      "text/plain": [
       "[(0, 0), (0, 1), (1, 0), (1, 1), (2, 0), (2, 1)]"
      ]
     },
     "execution_count": 16,
     "metadata": {},
     "output_type": "execute_result"
    }
   ],
   "source": [
    "l = []\n",
    "for i in range(3):\n",
    "    for j in range(2):\n",
    "        l.append((i, j))\n",
    "l"
   ]
  },
  {
   "cell_type": "markdown",
   "metadata": {
    "slideshow": {
     "slide_type": "-"
    }
   },
   "source": [
    "You can create nested list comprehensions"
   ]
  },
  {
   "cell_type": "code",
   "execution_count": 17,
   "metadata": {
    "slideshow": {
     "slide_type": "-"
    }
   },
   "outputs": [
    {
     "data": {
      "text/plain": [
       "[(0, 0), (0, 1), (1, 0), (1, 1), (2, 0), (2, 1)]"
      ]
     },
     "execution_count": 17,
     "metadata": {},
     "output_type": "execute_result"
    }
   ],
   "source": [
    "[(i,j) for i in range(3) for j in range(2)]"
   ]
  },
  {
   "cell_type": "markdown",
   "metadata": {
    "slideshow": {
     "slide_type": "slide"
    }
   },
   "source": [
    "## STUDENTS 10 MINUTES TASK\n",
    "**Ex 2: Clothes List Comprehension**\n",
    "\n",
    "1. From 2 lists, using a list comprehension, create a list containing:"
   ]
  },
  {
   "cell_type": "code",
   "execution_count": 20,
   "metadata": {
    "slideshow": {
     "slide_type": "-"
    }
   },
   "outputs": [
    {
     "data": {
      "text/plain": [
       "[('Black', 's'),\n",
       " ('Black', 'm'),\n",
       " ('Black', 'l'),\n",
       " ('Black', 'xl'),\n",
       " ('White', 's'),\n",
       " ('White', 'm'),\n",
       " ('White', 'l'),\n",
       " ('White', 'xl')]"
      ]
     },
     "execution_count": 20,
     "metadata": {},
     "output_type": "execute_result"
    }
   ],
   "source": [
    "[('Black', 's'), ('Black', 'm'), ('Black', 'l'), ('Black', 'xl'), ('White', 's'), ('White', 'm'), ('White', 'l'), ('White', 'xl')]"
   ]
  },
  {
   "cell_type": "code",
   "execution_count": 6,
   "metadata": {
    "slideshow": {
     "slide_type": "-"
    }
   },
   "outputs": [
    {
     "data": {
      "text/plain": [
       "[('Black', 's'),\n",
       " ('Black', 'm'),\n",
       " ('Black', 'l'),\n",
       " ('Black', 'xl'),\n",
       " ('White', 's'),\n",
       " ('White', 'm'),\n",
       " ('White', 'l'),\n",
       " ('White', 'xl')]"
      ]
     },
     "execution_count": 6,
     "metadata": {},
     "output_type": "execute_result"
    }
   ],
   "source": [
    "colors = ['Black', 'White']\n",
    "sizes = ['s', 'm', 'l', 'xl']\n",
    "[(color, size) for color in colors for size in sizes]"
   ]
  },
  {
   "cell_type": "markdown",
   "metadata": {
    "slideshow": {
     "slide_type": "-"
    }
   },
   "source": [
    "2. If the tuple pair is in the following list, it should not be added to the comprehension generated list. "
   ]
  },
  {
   "cell_type": "code",
   "execution_count": 8,
   "metadata": {},
   "outputs": [
    {
     "data": {
      "text/plain": [
       "[('Black', 's'),\n",
       " ('Black', 'l'),\n",
       " ('Black', 'xl'),\n",
       " ('White', 'm'),\n",
       " ('White', 'l'),\n",
       " ('White', 'xl')]"
      ]
     },
     "execution_count": 8,
     "metadata": {},
     "output_type": "execute_result"
    }
   ],
   "source": [
    "sold_out = [('Black', 'm'), ('White', 's')]\n",
    "[(color, size) for color in colors for size in sizes if (color, size) not in sold_out]"
   ]
  },
  {
   "cell_type": "markdown",
   "metadata": {
    "slideshow": {
     "slide_type": "slide"
    }
   },
   "source": [
    "# Modules\n",
    "## Build in Modules"
   ]
  },
  {
   "cell_type": "markdown",
   "metadata": {
    "slideshow": {
     "slide_type": "slide"
    }
   },
   "source": [
    "## The import statement"
   ]
  },
  {
   "cell_type": "markdown",
   "metadata": {
    "slideshow": {
     "slide_type": "slide"
    }
   },
   "source": [
    "## OS Module"
   ]
  },
  {
   "cell_type": "code",
   "execution_count": 10,
   "metadata": {
    "slideshow": {
     "slide_type": "slide"
    }
   },
   "outputs": [
    {
     "data": {
      "text/plain": [
       "['notebook_listcomp_modules.ipynb', 'README.md']"
      ]
     },
     "execution_count": 10,
     "metadata": {},
     "output_type": "execute_result"
    }
   ],
   "source": [
    "import os\n",
    "os.listdir()\n"
   ]
  },
  {
   "cell_type": "markdown",
   "metadata": {
    "slideshow": {
     "slide_type": "-"
    }
   },
   "source": [
    "**Other usefull OS methods**"
   ]
  },
  {
   "cell_type": "code",
   "execution_count": null,
   "metadata": {
    "slideshow": {
     "slide_type": "-"
    }
   },
   "outputs": [],
   "source": [
    "os.mkdir('Test')\n",
    "os.chdir('Test')\n",
    "os.rmdir('Test')\n",
    "\n",
    "# More: https://realpython.com/working-with-files-in-python/ and https://docs.python.org/3/library/os.html"
   ]
  },
  {
   "cell_type": "markdown",
   "metadata": {
    "slideshow": {
     "slide_type": "slide"
    }
   },
   "source": [
    "## STUDENTS 10 MINUTES TASK\n",
    "**Ex 5: OS Module Exercise**"
   ]
  },
  {
   "cell_type": "markdown",
   "metadata": {
    "slideshow": {
     "slide_type": "-"
    }
   },
   "source": [
    "## Do the following task using the os module\n",
    "\n",
    "1. create a folder and name the folder 'os_exercises.'                                                  \n",
    "2. In that folder create a file. Name the file 'exercise.py'                                                                            \n",
    "3. get input from the console and write it to the file.                                                 \n",
    "4. repeat step 2 and 3 (and append to the file).                                                  \n",
    "5. read the content of the files and and print it to the console.\n"
   ]
  },
  {
   "cell_type": "code",
   "execution_count": 6,
   "metadata": {},
   "outputs": [
    {
     "name": "stdout",
     "output_type": "stream",
     "text": [
      "Contents of 'exercise.py':\n",
      "some text\n",
      "\n"
     ]
    }
   ],
   "source": [
    "import os\n",
    "os.mkdir('os_exercises')\n",
    "\n",
    "os.chdir('os_exercises')\n",
    "\n",
    "user_input = input(\"Enter text to write to the file: \")\n",
    "with open('exercise.py', 'w') as file:\n",
    "    file.write(user_input + '\\n')\n",
    "\n",
    "while True:\n",
    "    user_input = input(\"Enter more text to append to the file (or 'exit' to stop): \")\n",
    "    if user_input.lower() == 'exit':\n",
    "        break\n",
    "    with open('exercise.py', 'a') as file:\n",
    "        file.write(user_input + '\\n')\n",
    "\n",
    "with open('exercise.py', 'r') as file:\n",
    "    file_content = file.read()\n",
    "    print(\"Contents of 'exercise.py':\")\n",
    "    print(file_content)\n",
    "    \n",
    "os.chdir('..')"
   ]
  },
  {
   "cell_type": "markdown",
   "metadata": {
    "slideshow": {
     "slide_type": "slide"
    }
   },
   "source": [
    "## Subprocess module\n",
    "Run unix commands through python"
   ]
  },
  {
   "cell_type": "code",
   "execution_count": 18,
   "metadata": {
    "slideshow": {
     "slide_type": "-"
    }
   },
   "outputs": [
    {
     "name": "stdout",
     "output_type": "stream",
     "text": [
      "/Users/clbo/Tresors/KEA/python/repos/_fall2023-code-examples-from-teachings/ses4\n",
      "README.md\n",
      "notebook_listcomp_modules.ipynb\n",
      "test.py\n",
      "README.md\n",
      "notebook_listcomp_modules.ipynb\n",
      "/Users/clbo/Tresors/KEA/python/repos/_fall2023-code-examples-from-teachings/ses4\n"
     ]
    },
    {
     "data": {
      "text/plain": [
       "CompletedProcess(args=['pwd'], returncode=0)"
      ]
     },
     "execution_count": 18,
     "metadata": {},
     "output_type": "execute_result"
    }
   ],
   "source": [
    "import subprocess    \n",
    "subprocess.run(['pwd'])    \n",
    "subprocess.run(['touch', 'test.py'])    \n",
    "subprocess.run(['ls'])    \n",
    "subprocess.run(['rm', 'test.py'])    \n",
    "subprocess.run(['ls'])    \n",
    "subprocess.run(['pwd'])    "
   ]
  },
  {
   "cell_type": "markdown",
   "metadata": {
    "slideshow": {
     "slide_type": "slide"
    }
   },
   "source": [
    "## Subprocess module\n",
    "Run git commands through python"
   ]
  },
  {
   "cell_type": "code",
   "execution_count": 20,
   "metadata": {
    "slideshow": {
     "slide_type": "-"
    }
   },
   "outputs": [
    {
     "name": "stdout",
     "output_type": "stream",
     "text": [
      "README.md\n",
      "notebook_listcomp_modules.ipynb\n"
     ]
    },
    {
     "data": {
      "text/plain": [
       "CompletedProcess(args=['ls'], returncode=0)"
      ]
     },
     "execution_count": 20,
     "metadata": {},
     "output_type": "execute_result"
    }
   ],
   "source": [
    "import subprocess    \n",
    "# subprocess.run(['git', 'clone', 'https://github.com/python-elective-kea/fall2023.git'])        \n",
    "\n",
    "subprocess.run(['ls'])    "
   ]
  },
  {
   "cell_type": "markdown",
   "metadata": {
    "slideshow": {
     "slide_type": "slide"
    }
   },
   "source": [
    "# Requests module (3rd party)\n",
    "## Have to be installed by:\n",
    "> pip install requests"
   ]
  },
  {
   "cell_type": "code",
   "execution_count": 13,
   "metadata": {
    "slideshow": {
     "slide_type": "slide"
    }
   },
   "outputs": [
    {
     "data": {
      "text/plain": [
       "90657"
      ]
     },
     "execution_count": 13,
     "metadata": {},
     "output_type": "execute_result"
    }
   ],
   "source": [
    "# %pip install requests\n",
    "import requests\n",
    "res = requests.get('https://kea.dk')\n",
    "res.text\n",
    "\n",
    "f = open('test.html', 'w')\n",
    "f.write(res.text)"
   ]
  },
  {
   "cell_type": "code",
   "execution_count": 26,
   "metadata": {
    "slideshow": {
     "slide_type": "-"
    }
   },
   "outputs": [],
   "source": [
    "# %pip list"
   ]
  },
  {
   "cell_type": "code",
   "execution_count": 28,
   "metadata": {
    "slideshow": {
     "slide_type": "slide"
    }
   },
   "outputs": [
    {
     "data": {
      "text/plain": [
       "'{\"current_user_url\":\"https://api.github.com/user\",\"current_user_authorizations_html_url\":\"https://github.com/settings/connections/applications{/client_id}\",\"authorizations_url\":\"https://api.github.com/authorizations\",\"code_search_url\":\"https://api.github.com/search/code?q={query}{&page,per_page,sort,order}\",\"commit_search_url\":\"https://api.github.com/search/commits?q={query}{&page,per_page,sort,order}\",\"emails_url\":\"https://api.github.com/user/emails\",\"emojis_url\":\"https://api.github.com/emojis\",\"events_url\":\"https://api.github.com/events\",\"feeds_url\":\"https://api.github.com/feeds\",\"followers_url\":\"https://api.github.com/user/followers\",\"following_url\":\"https://api.github.com/user/following{/target}\",\"gists_url\":\"https://api.github.com/gists{/gist_id}\",\"hub_url\":\"https://api.github.com/hub\",\"issue_search_url\":\"https://api.github.com/search/issues?q={query}{&page,per_page,sort,order}\",\"issues_url\":\"https://api.github.com/issues\",\"keys_url\":\"https://api.github.com/user/keys\",\"label_search_url\":\"https://api.github.com/search/labels?q={query}&repository_id={repository_id}{&page,per_page}\",\"notifications_url\":\"https://api.github.com/notifications\",\"organization_url\":\"https://api.github.com/orgs/{org}\",\"organization_repositories_url\":\"https://api.github.com/orgs/{org}/repos{?type,page,per_page,sort}\",\"organization_teams_url\":\"https://api.github.com/orgs/{org}/teams\",\"public_gists_url\":\"https://api.github.com/gists/public\",\"rate_limit_url\":\"https://api.github.com/rate_limit\",\"repository_url\":\"https://api.github.com/repos/{owner}/{repo}\",\"repository_search_url\":\"https://api.github.com/search/repositories?q={query}{&page,per_page,sort,order}\",\"current_user_repositories_url\":\"https://api.github.com/user/repos{?type,page,per_page,sort}\",\"starred_url\":\"https://api.github.com/user/starred{/owner}{/repo}\",\"starred_gists_url\":\"https://api.github.com/gists/starred\",\"topic_search_url\":\"https://api.github.com/search/topics?q={query}{&page,per_page}\",\"user_url\":\"https://api.github.com/users/{user}\",\"user_organizations_url\":\"https://api.github.com/user/orgs\",\"user_repositories_url\":\"https://api.github.com/users/{user}/repos{?type,page,per_page,sort}\",\"user_search_url\":\"https://api.github.com/search/users?q={query}{&page,per_page,sort,order}\"}'"
      ]
     },
     "execution_count": 28,
     "metadata": {},
     "output_type": "execute_result"
    }
   ],
   "source": [
    "import requests    \n",
    "res = requests.get('https://api.github.com')\n",
    "res.text"
   ]
  },
  {
   "cell_type": "markdown",
   "metadata": {
    "slideshow": {
     "slide_type": "slide"
    }
   },
   "source": [
    "## Download Images"
   ]
  },
  {
   "cell_type": "code",
   "execution_count": 29,
   "metadata": {
    "slideshow": {
     "slide_type": "-"
    }
   },
   "outputs": [
    {
     "data": {
      "text/plain": [
       "2715"
      ]
     },
     "execution_count": 29,
     "metadata": {},
     "output_type": "execute_result"
    }
   ],
   "source": [
    "import requests\n",
    "\n",
    "f = requests.get('https://kea.dk/images/resources/logo-main-black-single.png', allow_redirects=True)\n",
    "\n",
    "o = open('logo.png', 'wb')    \n",
    "o.write(f.content)"
   ]
  },
  {
   "cell_type": "markdown",
   "metadata": {},
   "source": [
    "# Simple scraper with requests\n",
    "Solution\n",
    "\n",
    "1. Create an application that asks for an url.\n",
    "2. Then Download that html page, and its images, icons etc. and change it so it will work locally on your computer. (Locally means that you should be able to cut your internet connection and still have a functionig html page).\n",
    "3. When done push all files to your github account. (all should be done programattically) Hint: api.github.com/user/repos can be used to create a repository from you program on Github)\n",
    "You will have to use the requests module, the OS module and the subprocesses module for this taks.\n",
    "An easy website to scrape is this: https://clbokea.github.io/exam/assignment_2.html"
   ]
  },
  {
   "cell_type": "code",
   "execution_count": 2,
   "metadata": {},
   "outputs": [],
   "source": [
    "import requests\n",
    "import os\n",
    "import subprocess\n",
    "\n",
    "if os.path.exists('web_scraper'):\n",
    "    subprocess.run(['rmdir', 'web_scraper'])\n",
    "\n",
    "if not os.path.exists('web_scraper'):\n",
    "    os.mkdir('web_scraper')\n",
    "os.chdir('web_scraper')\n",
    "\n",
    "user_input = input(\"Enter URL: \")\n",
    "res = requests.get(user_input)\n",
    "\n",
    "with open('index.html', 'w') as f:\n",
    "    f.write(res.text)\n",
    "\n",
    "img = requests.get('https://clbokea.github.io/exam/src/how-do-you-play-blackjack.jpg', allow_redirects=True)\n",
    "\n",
    "if not os.path.exists('src'):\n",
    "    os.mkdir('src')\n",
    "\n",
    "os.chdir('src')\n",
    "with open('how-do-you-play-blackjack.jpg', 'wb') as o:\n",
    "    o.write(img.content)\n",
    "\n",
    "\n",
    "os.chdir('..')\n",
    "os.chdir('..')\n"
   ]
  }
 ],
 "metadata": {
  "celltoolbar": "Slideshow",
  "kernelspec": {
   "display_name": "Python 3",
   "language": "python",
   "name": "python3"
  },
  "language_info": {
   "codemirror_mode": {
    "name": "ipython",
    "version": 3
   },
   "file_extension": ".py",
   "mimetype": "text/x-python",
   "name": "python",
   "nbconvert_exporter": "python",
   "pygments_lexer": "ipython3",
   "version": "3.11.4"
  }
 },
 "nbformat": 4,
 "nbformat_minor": 4
}
