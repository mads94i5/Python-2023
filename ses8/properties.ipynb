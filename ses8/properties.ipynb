{
 "cells": [
  {
   "cell_type": "markdown",
   "metadata": {},
   "source": [
    "## Properties\n",
    "_Encapsulating data_"
   ]
  },
  {
   "cell_type": "code",
   "execution_count": 156,
   "metadata": {},
   "outputs": [],
   "source": [
    "# from number import Number\n",
    "\n",
    "class Number:\n",
    "    def __init__(self, value):\n",
    "        self.x = value\n",
    "\n",
    "    @property\n",
    "    def x(self):\n",
    "        return self._x\n",
    "    \n",
    "    @x.setter\n",
    "    def x(self, value):\n",
    "        if value >= 0 and value <= 100:\n",
    "            self._x = value\n",
    "        else:\n",
    "            raise ValueError('Number should be between 0 and 100')"
   ]
  },
  {
   "cell_type": "code",
   "execution_count": 157,
   "metadata": {},
   "outputs": [
    {
     "data": {
      "text/plain": [
       "66"
      ]
     },
     "execution_count": 157,
     "metadata": {},
     "output_type": "execute_result"
    }
   ],
   "source": [
    "num = Number(12)\n",
    "num.x = 66\n",
    "num.x"
   ]
  },
  {
   "cell_type": "code",
   "execution_count": 158,
   "metadata": {},
   "outputs": [
    {
     "data": {
      "text/plain": [
       "'you'"
      ]
     },
     "execution_count": 158,
     "metadata": {},
     "output_type": "execute_result"
    }
   ],
   "source": [
    "class Car:\n",
    "    def __init__(self, make, model, bhp, mph):\n",
    "        self.make = make\n",
    "        self.model = model\n",
    "        self.bhp = bhp\n",
    "        self.mph = mph\n",
    "    \n",
    "    @property\n",
    "    def make(self):\n",
    "        return self._make\n",
    "    \n",
    "    @make.setter\n",
    "    def make(self, value):\n",
    "        if isinstance(value, str):\n",
    "            self._make = value\n",
    "        else:\n",
    "            raise ValueError('Should be a string')\n",
    "\n",
    "    @property\n",
    "    def model(self):\n",
    "        return self._model\n",
    "    \n",
    "    @model.setter\n",
    "    def model(self, value):\n",
    "        if isinstance(value, str):\n",
    "            self._model = value\n",
    "        else:\n",
    "            raise ValueError('Should be a string')\n",
    "\n",
    "    @property\n",
    "    def bhp(self):\n",
    "        return self._bhp\n",
    "    \n",
    "    @bhp.setter\n",
    "    def bhp(self, value):\n",
    "        if isinstance(value, int):\n",
    "            self._bhp = value\n",
    "        else:\n",
    "            raise ValueError('Should be an integer')\n",
    "\n",
    "    @property\n",
    "    def mph(self):\n",
    "        return self._mph\n",
    "    \n",
    "    @mph.setter\n",
    "    def mph(self, value):\n",
    "        if isinstance(value, int):\n",
    "            self._mph = value\n",
    "        else:\n",
    "            raise ValueError('Should be an integer')\n",
    "\n",
    "\n",
    "car = Car('hey', 'hey', 123, 53)\n",
    "car.model = 'you'\n",
    "car.model\n",
    "    "
   ]
  },
  {
   "cell_type": "code",
   "execution_count": 159,
   "metadata": {},
   "outputs": [],
   "source": [
    "class Bank:\n",
    "    def __init__(self):\n",
    "        self.accounts = []\n",
    "    \n",
    "    @property\n",
    "    def accounts(self):\n",
    "        return self._accounts\n",
    "    \n",
    "    @accounts.setter\n",
    "    def accounts(self, value):\n",
    "        if isinstance(value, list):\n",
    "            self._accounts = value\n",
    "        else:\n",
    "            raise ValueError('Should be a list')\n",
    "\n",
    "class Account:\n",
    "    def __init__(self, no, cust):\n",
    "        self.no = no\n",
    "        self.cust = cust\n",
    "    \n",
    "    @property\n",
    "    def no(self):\n",
    "        self._no\n",
    "    \n",
    "    @no.setter\n",
    "    def no(self, value):\n",
    "        if isinstance(value, int):\n",
    "            self._no = value\n",
    "        else:\n",
    "            raise ValueError('Should be an integer')\n",
    "    \n",
    "    @property\n",
    "    def cust(self):\n",
    "        self._cust\n",
    "    \n",
    "    @cust.setter\n",
    "    def cust(self, value):\n",
    "        if isinstance(value, str):\n",
    "            self._cust = value\n",
    "        else:\n",
    "            raise ValueError('Should be a string')\n",
    "        \n",
    "\n",
    "class Customer:\n",
    "    def __init__(self, name):\n",
    "        self.name = name\n",
    "\n",
    "    @property\n",
    "    def name(self):\n",
    "        self._name\n",
    "    \n",
    "    @name.setter\n",
    "    def name(self, value):\n",
    "        if isinstance(self, str):\n",
    "            self._name = value\n",
    "        else:\n",
    "            raise ValueError('Should be a string')"
   ]
  },
  {
   "cell_type": "code",
   "execution_count": 160,
   "metadata": {},
   "outputs": [],
   "source": [
    "class C:\n",
    "         def __init__(self, value):\n",
    "             self._x = value\n",
    "\n",
    "         @property\n",
    "         def x(self):\n",
    "             return self._x\n",
    "\n",
    "         @x.setter\n",
    "         def x(self, value):\n",
    "             if value <= 100 and value >= 0:\n",
    "                 self._x = value\n",
    "             else:\n",
    "                 raise ValueError('value should be between 0 and 100')\n",
    "             \n",
    "# the mistake is in the __init__ function, where it sets _x instead of x.\n",
    "# this means the x property is never used and there is no validation of the input.\n"
   ]
  },
  {
   "cell_type": "code",
   "execution_count": 161,
   "metadata": {},
   "outputs": [
    {
     "name": "stdout",
     "output_type": "stream",
     "text": [
      "This is a test print.\n"
     ]
    }
   ],
   "source": [
    "class Machine:\n",
    "    def __init__(self, is_on):\n",
    "        self.is_on = is_on\n",
    "\n",
    "    @property\n",
    "    def is_on(self):\n",
    "        return self._is_on\n",
    "    \n",
    "    @is_on.setter\n",
    "    def is_on(self, value):\n",
    "        if isinstance(value, bool):\n",
    "            self._is_on = value\n",
    "        else:\n",
    "            raise ValueError('Should be a boolean')\n",
    "\n",
    "class Printer(Machine):\n",
    "    def print_to_console(self, value):\n",
    "        if self.is_on:\n",
    "            print(value)\n",
    "        else:\n",
    "            print(\"Printer is off. Cannot print.\")\n",
    "\n",
    "class Papertray(Printer):\n",
    "    def __init__(self, paper):\n",
    "        self.paper = paper\n",
    "    \n",
    "    @property\n",
    "    def paper(self):\n",
    "        return self._paper\n",
    "    \n",
    "    @paper.setter\n",
    "    def paper(self, value):\n",
    "        if isinstance(value, int):\n",
    "            self._paper = value\n",
    "        else:\n",
    "            raise ValueError('Should be an integer')\n",
    "    \n",
    "    def use_paper(self, amount):\n",
    "        if self.paper >= amount:\n",
    "            self.paper -= amount\n",
    "        else:\n",
    "            print(\"Not enough paper in the tray.\")\n",
    "\n",
    "\n",
    "tray = Papertray(100)\n",
    "printer = Printer(True)\n",
    "printer.print_to_console(\"This is a test print.\")\n",
    "tray.use_paper(1)"
   ]
  },
  {
   "cell_type": "code",
   "execution_count": 162,
   "metadata": {},
   "outputs": [
    {
     "name": "stdout",
     "output_type": "stream",
     "text": [
      "10\n",
      "10\n",
      "100\n"
     ]
    }
   ],
   "source": [
    "class Rectangle:\n",
    "    def __init__(self, length, height):\n",
    "        self.length = length\n",
    "        self.height = height\n",
    "    \n",
    "    @property\n",
    "    def length(self):\n",
    "        return self._length\n",
    "    \n",
    "    @length.setter\n",
    "    def length(self, value):\n",
    "        if not isinstance(value, int):\n",
    "            raise ValueError('Value is not an integer')\n",
    "        if value < 0:\n",
    "            raise ValueError('Value can not be negative')\n",
    "        self._length = value\n",
    "    \n",
    "    @property\n",
    "    def height(self):\n",
    "        return self._height\n",
    "    \n",
    "    @height.setter\n",
    "    def height(self, value):\n",
    "        if not isinstance(value, int):\n",
    "            raise ValueError('Value is not an integer')\n",
    "        if value < 0:\n",
    "            raise ValueError('Value can not be negative')\n",
    "        self._height = value\n",
    "\n",
    "    @property\n",
    "    def area(self):\n",
    "        return self.length * self.height\n",
    "\n",
    "rectangle = Rectangle(10, 10)\n",
    "print(rectangle.length)\n",
    "print(rectangle.height)\n",
    "print(rectangle.area)"
   ]
  },
  {
   "cell_type": "code",
   "execution_count": 163,
   "metadata": {},
   "outputs": [
    {
     "data": {
      "text/plain": [
       "'#FF8E35'"
      ]
     },
     "execution_count": 163,
     "metadata": {},
     "output_type": "execute_result"
    }
   ],
   "source": [
    "class Color:\n",
    "    def __init__(self, r, g, b):\n",
    "            self.r = r\n",
    "            self.g = g\n",
    "            self.b = b\n",
    "    \n",
    "    @property\n",
    "    def hex(self):\n",
    "          return f'#{self.r:02X}{self.g:02X}{self.b:02X}'\n",
    "\n",
    "color = Color(255, 142, 53)\n",
    "color.hex"
   ]
  },
  {
   "cell_type": "markdown",
   "metadata": {},
   "source": [
    "***"
   ]
  },
  {
   "cell_type": "markdown",
   "metadata": {},
   "source": [
    "> ### Q: What if value should be between 0 and 100?"
   ]
  }
 ],
 "metadata": {
  "kernelspec": {
   "display_name": ".venv",
   "language": "python",
   "name": "python3"
  },
  "language_info": {
   "codemirror_mode": {
    "name": "ipython",
    "version": 3
   },
   "file_extension": ".py",
   "mimetype": "text/x-python",
   "name": "python",
   "nbconvert_exporter": "python",
   "pygments_lexer": "ipython3",
   "version": "3.11.4"
  }
 },
 "nbformat": 4,
 "nbformat_minor": 2
}
