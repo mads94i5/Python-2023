{
 "cells": [
  {
   "cell_type": "code",
   "execution_count": 29,
   "metadata": {},
   "outputs": [],
   "source": [
    "class Bank:    \n",
    "    def __init__(self):\n",
    "        self._accounts = []  # When bank is initialized it has  the abillity to hold many accounts\n",
    "    \n",
    "    @property\n",
    "    def accounts(self):\n",
    "        return self._accounts\n",
    "\n",
    "    @accounts.setter\n",
    "    def accounts(self, acc):\n",
    "        if type(acc) in [list, tuple, set]:\n",
    "            for i in acc:\n",
    "                self._has_account(i)\n",
    "                self._accounts.append(i)\n",
    "        else:\n",
    "            self._has_account(acc)\n",
    "            self._accounts.append(acc)\n",
    "\n",
    "    def _has_account(self, acc):\n",
    "        for i in self._accounts:\n",
    "            if acc.cust.name == i.cust.name:\n",
    "                raise ValueError('Customer aleready has an account!')\n",
    "        return False\n",
    "    \n",
    "    def __repr__(self):\n",
    "        return str(self.__dict__)\n",
    "\n",
    "class Account:\n",
    "    def __init__(self, no, cust):\n",
    "        self.no = no\n",
    "        self.cust = cust\n",
    "\n",
    "    def __repr__(self):\n",
    "        return str(self.__dict__)\n",
    "\n",
    "\n",
    "class Customer:\n",
    "    def __init__(self, name, age):\n",
    "        self.name = name\n",
    "        self.age = age\n",
    "\n",
    "    @property\n",
    "    def age(self):\n",
    "        return self._age\n",
    "\n",
    "    @age.setter\n",
    "    def age(self, age):\n",
    "        if age < 18:\n",
    "            raise ValueError('You must be 18 or above to create an account')\n",
    "        \n",
    "        self._age = age     # create a variable with the name _age\n",
    "\n",
    "    def __repr__(self):\n",
    "        return str(self.__dict__)\n"
   ]
  },
  {
   "cell_type": "code",
   "execution_count": 30,
   "metadata": {},
   "outputs": [],
   "source": [
    "b = Bank()"
   ]
  },
  {
   "cell_type": "code",
   "execution_count": 31,
   "metadata": {},
   "outputs": [],
   "source": [
    "b.accounts = Account(123, Customer('Claus', 36))"
   ]
  },
  {
   "cell_type": "code",
   "execution_count": 32,
   "metadata": {},
   "outputs": [
    {
     "data": {
      "text/plain": [
       "[{'no': 123, 'cust': {'name': 'Claus', '_age': 36}}]"
      ]
     },
     "execution_count": 32,
     "metadata": {},
     "output_type": "execute_result"
    }
   ],
   "source": [
    "b.accounts"
   ]
  },
  {
   "cell_type": "code",
   "execution_count": null,
   "metadata": {},
   "outputs": [],
   "source": []
  }
 ],
 "metadata": {
  "kernelspec": {
   "display_name": ".venv",
   "language": "python",
   "name": "python3"
  },
  "language_info": {
   "codemirror_mode": {
    "name": "ipython",
    "version": 3
   },
   "file_extension": ".py",
   "mimetype": "text/x-python",
   "name": "python",
   "nbconvert_exporter": "python",
   "pygments_lexer": "ipython3",
   "version": "3.11.5"
  }
 },
 "nbformat": 4,
 "nbformat_minor": 2
}
