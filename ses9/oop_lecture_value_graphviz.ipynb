{
 "cells": [
  {
   "cell_type": "markdown",
   "metadata": {},
   "source": [
    "# Value Class & Graph with nodes and edges exaple\n",
    "\n",
    "This video is related (but not identical) to the code example below.\n",
    "\n",
    "<iframe width=\"560\" height=\"315\" src=\"https://www.youtube.com/embed/VMj-3S1tku0?si=SmjGGk1hFI18pxIT&amp;start=1164\" title=\"YouTube video player\" frameborder=\"0\" allow=\"accelerometer; autoplay; clipboard-write; encrypted-media; gyroscope; picture-in-picture; web-share\" allowfullscreen></iframe>\n",
    "\n",
    "**Problem to be solved:** We have to make a new kind of tool that can help us build a chart like this: "
   ]
  },
  {
   "cell_type": "markdown",
   "metadata": {},
   "source": [
    "![](output.svg.svg)"
   ]
  },
  {
   "cell_type": "markdown",
   "metadata": {},
   "source": [
    "The actual drawing (the graphics) is done by a a tool called 'graphviz', and a few [functions](testfiles/graphcode.py), making use of graphviz, and then imported into this notebook. \n",
    "\n",
    "This \"tool\" needs some information, which in this case basically is a number (a=2.0, b=-3.0).    \n",
    "The usual number storing object ('int') can't keep all the information we need. Besides just holding a number, we want this new tool to remember the original name of the object (a, b), what other objects helped make it (in c´s case it is a, b), and what math actions (like + or *) were used to create it. So, we need to build a new, and more complex object (or datastructure) that can remember all these things."
   ]
  },
  {
   "cell_type": "code",
   "execution_count": 3,
   "metadata": {},
   "outputs": [
    {
     "name": "stdout",
     "output_type": "stream",
     "text": [
      "Requirement already satisfied: graphviz in /Users/clbo/Tresors/KEA/python/repos/_fall2023-code-examples-from-teachings/.venv/lib/python3.11/site-packages (0.20.1)\n",
      "\n",
      "\u001b[1m[\u001b[0m\u001b[34;49mnotice\u001b[0m\u001b[1;39;49m]\u001b[0m\u001b[39;49m A new release of pip is available: \u001b[0m\u001b[31;49m23.2.1\u001b[0m\u001b[39;49m -> \u001b[0m\u001b[32;49m23.3.1\u001b[0m\n",
      "\u001b[1m[\u001b[0m\u001b[34;49mnotice\u001b[0m\u001b[1;39;49m]\u001b[0m\u001b[39;49m To update, run: \u001b[0m\u001b[32;49mpip install --upgrade pip\u001b[0m\n",
      "Note: you may need to restart the kernel to use updated packages.\n"
     ]
    }
   ],
   "source": [
    "# Install graphviz on you computer: https://graphviz.org/download/\n",
    "# install requirement packages in this project\n",
    "%pip install graphviz\n",
    "\n",
    "#import into this project\n",
    "from graphviz import Digraph"
   ]
  },
  {
   "cell_type": "code",
   "execution_count": 4,
   "metadata": {},
   "outputs": [],
   "source": [
    "class Value:\n",
    "  \n",
    "    def __init__(self, data, _parents=(), _operator='', label=''):\n",
    "        self.data = data                # the actual value\n",
    "        self._prev = set(_parents)      # the 2 or more object used to create the object\n",
    "        self._op = _operator            # the operator used when creating the object (+,-,*,/)\n",
    "        self.label = label              # The variable name connected to the object\n",
    "\n",
    "    def __repr__(self):\n",
    "        return f\"Value(data={self.data})\"\n",
    "  \n",
    "    def __add__(self, other):\n",
    "        return Value(self.data + other.data, (self, other), '+')\n",
    "\n",
    "    def __mul__(self, other):\n",
    "        return Value(self.data * other.data, (self, other), '*')\n",
    "\n",
    "    def __sub__(self, other):\n",
    "        return Value(self.data - other.data, (self, other), '-')\n",
    "  \n",
    "    def __truediv__(self, other):\n",
    "        if other.data == 0:  # Division by zero check\n",
    "            raise ValueError(\"Division by zero is not allowed\")\n",
    "        return Value(self.data / other.data, (self, other), '/')"
   ]
  },
  {
   "cell_type": "markdown",
   "metadata": {},
   "source": [
    "### Draw Dot Code\n",
    "The following import of a functions are not super important for you to look at right now.     \n",
    "The function 'draw_dot' takes care of drawing the diagram, and expects a Value object as parameter input.     \n",
    "\n",
    "**The focus in this demo should be on the Value class.**    \n",
    "\n",
    "If you later look through the code step by step, you should by now (after 6 weeks with python) be able to understand what it does.     \n",
    "If you do not understand the code, it is a good exercise to go through the code and understand it.\n",
    "\n",
    "The [graphcode.py](https://github.com/python-elective-kea/fall2023-code-examples-from-teachings/tree/master/ses7/graphcode.py) can be found in the code from today session."
   ]
  },
  {
   "cell_type": "code",
   "execution_count": 5,
   "metadata": {},
   "outputs": [],
   "source": [
    "# These 2 functions are not super important for you to look at right now. The fokus should be on the Value class. \n",
    "# But basicly what the 2 functions do are to produce the graph below with its nodes and edges. \n",
    "# If you later look through the code step by step, you should by now be able to understand what it does. \n",
    "# If not it is a good exercise to do so. \n",
    "\n",
    "# In order for this to work you have to install graphviz on your laptop. \n",
    "# Install graphviz on you computer: https://graphviz.org/download/\n",
    "\n",
    "# Then install graphviz in the environment 'pip install graphviz'\n",
    "\n",
    "from graphviz import Digraph\n",
    "\n",
    "\n",
    "def trace(root):\n",
    "    # builds a set of all nodes and edges in a graph\n",
    "    nodes, edges = set(), set()\n",
    "    \n",
    "    def build(v):\n",
    "        if v not in nodes:\n",
    "            nodes.add(v)\n",
    "            for child in v._prev:\n",
    "                edges.add((child, v))\n",
    "                build(child)\n",
    "    \n",
    "    build(root)\n",
    "    \n",
    "    return nodes, edges\n",
    "\n",
    "def draw_dot(root):\n",
    "    dot = Digraph(format='svg', graph_attr={'rankdir': 'LR'}) # LR = left to right\n",
    "    \n",
    "    nodes, edges = trace(root)\n",
    "    for n in nodes:\n",
    "        uid = str(id(n))\n",
    "        # for any value in the graph, create a rectangular ('record') node for it\n",
    "        dot.node(name=uid, label=f\"{{ {n.label} | data {n.data:.1f} }}\", shape='record')\n",
    "        if n._op:\n",
    "            # if this value is a result of some operation, create an op node for it\n",
    "            dot.node(name=uid + n._op, label=n._op)\n",
    "            # and connect this node to it\n",
    "            dot.edge(uid + n._op, uid)\n",
    "\n",
    "    for n1, n2 in edges:\n",
    "        # connect n1 to the op node of n2\n",
    "        dot.edge(str(id(n1)), str(id(n2)) + n2._op)\n",
    "\n",
    "    return dot"
   ]
  },
  {
   "cell_type": "code",
   "execution_count": 9,
   "metadata": {},
   "outputs": [
    {
     "data": {
      "image/svg+xml": [
       "<?xml version=\"1.0\" encoding=\"UTF-8\" standalone=\"no\"?>\n",
       "<!DOCTYPE svg PUBLIC \"-//W3C//DTD SVG 1.1//EN\"\n",
       " \"http://www.w3.org/Graphics/SVG/1.1/DTD/svg11.dtd\">\n",
       "<!-- Generated by graphviz version 9.0.0 (20230911.1827)\n",
       " -->\n",
       "<!-- Pages: 1 -->\n",
       "<svg width=\"302pt\" height=\"100pt\"\n",
       " viewBox=\"0.00 0.00 302.25 100.00\" xmlns=\"http://www.w3.org/2000/svg\" xmlns:xlink=\"http://www.w3.org/1999/xlink\">\n",
       "<g id=\"graph0\" class=\"graph\" transform=\"scale(1 1) rotate(0) translate(4 96)\">\n",
       "<polygon fill=\"white\" stroke=\"none\" points=\"-4,4 -4,-96 298.25,-96 298.25,4 -4,4\"/>\n",
       "<!-- 4397653904 -->\n",
       "<g id=\"node1\" class=\"node\">\n",
       "<title>4397653904</title>\n",
       "<polygon fill=\"none\" stroke=\"black\" points=\"212.75,-27.5 212.75,-63.5 294.25,-63.5 294.25,-27.5 212.75,-27.5\"/>\n",
       "<text text-anchor=\"middle\" x=\"223.75\" y=\"-40.7\" font-family=\"Times,serif\" font-size=\"14.00\">c</text>\n",
       "<polyline fill=\"none\" stroke=\"black\" points=\"234.75,-28 234.75,-63.5\"/>\n",
       "<text text-anchor=\"middle\" x=\"264.5\" y=\"-40.7\" font-family=\"Times,serif\" font-size=\"14.00\">data 5.0</text>\n",
       "</g>\n",
       "<!-- 4397653904&#45; -->\n",
       "<g id=\"node2\" class=\"node\">\n",
       "<title>4397653904&#45;</title>\n",
       "<ellipse fill=\"none\" stroke=\"black\" cx=\"149.75\" cy=\"-45.5\" rx=\"27\" ry=\"18\"/>\n",
       "<text text-anchor=\"middle\" x=\"149.75\" y=\"-40.45\" font-family=\"Times,serif\" font-size=\"14.00\">&#45;</text>\n",
       "</g>\n",
       "<!-- 4397653904&#45;&#45;&gt;4397653904 -->\n",
       "<g id=\"edge1\" class=\"edge\">\n",
       "<title>4397653904&#45;&#45;&gt;4397653904</title>\n",
       "<path fill=\"none\" stroke=\"black\" d=\"M177.22,-45.5C184.5,-45.5 192.66,-45.5 200.85,-45.5\"/>\n",
       "<polygon fill=\"black\" stroke=\"black\" points=\"200.83,-49 210.83,-45.5 200.83,-42 200.83,-49\"/>\n",
       "</g>\n",
       "<!-- 4397653840 -->\n",
       "<g id=\"node3\" class=\"node\">\n",
       "<title>4397653840</title>\n",
       "<polygon fill=\"none\" stroke=\"black\" points=\"0,-55.5 0,-91.5 86.75,-91.5 86.75,-55.5 0,-55.5\"/>\n",
       "<text text-anchor=\"middle\" x=\"11.38\" y=\"-68.7\" font-family=\"Times,serif\" font-size=\"14.00\">b</text>\n",
       "<polyline fill=\"none\" stroke=\"black\" points=\"22.75,-56 22.75,-91.5\"/>\n",
       "<text text-anchor=\"middle\" x=\"54.75\" y=\"-68.7\" font-family=\"Times,serif\" font-size=\"14.00\">data &#45;3.0</text>\n",
       "</g>\n",
       "<!-- 4397653840&#45;&gt;4397653904&#45; -->\n",
       "<g id=\"edge3\" class=\"edge\">\n",
       "<title>4397653840&#45;&gt;4397653904&#45;</title>\n",
       "<path fill=\"none\" stroke=\"black\" d=\"M87.13,-62.03C95.8,-59.7 104.83,-57.28 113.22,-55.03\"/>\n",
       "<polygon fill=\"black\" stroke=\"black\" points=\"113.95,-58.46 122.7,-52.49 112.14,-51.7 113.95,-58.46\"/>\n",
       "</g>\n",
       "<!-- 4397652048 -->\n",
       "<g id=\"node4\" class=\"node\">\n",
       "<title>4397652048</title>\n",
       "<polygon fill=\"none\" stroke=\"black\" points=\"2.62,-0.5 2.62,-36.5 84.12,-36.5 84.12,-0.5 2.62,-0.5\"/>\n",
       "<text text-anchor=\"middle\" x=\"13.62\" y=\"-13.7\" font-family=\"Times,serif\" font-size=\"14.00\">a</text>\n",
       "<polyline fill=\"none\" stroke=\"black\" points=\"24.62,-1 24.62,-36.5\"/>\n",
       "<text text-anchor=\"middle\" x=\"54.38\" y=\"-13.7\" font-family=\"Times,serif\" font-size=\"14.00\">data 2.0</text>\n",
       "</g>\n",
       "<!-- 4397652048&#45;&gt;4397653904&#45; -->\n",
       "<g id=\"edge2\" class=\"edge\">\n",
       "<title>4397652048&#45;&gt;4397653904&#45;</title>\n",
       "<path fill=\"none\" stroke=\"black\" d=\"M84.43,-28.86C93.81,-31.29 103.74,-33.86 112.92,-36.23\"/>\n",
       "<polygon fill=\"black\" stroke=\"black\" points=\"112.02,-39.61 122.58,-38.73 113.78,-32.84 112.02,-39.61\"/>\n",
       "</g>\n",
       "</g>\n",
       "</svg>\n"
      ],
      "text/plain": [
       "<graphviz.graphs.Digraph at 0x1061ee550>"
      ]
     },
     "execution_count": 9,
     "metadata": {},
     "output_type": "execute_result"
    }
   ],
   "source": [
    "a = Value(2, label='a')\n",
    "b = Value(-3, label='b')\n",
    "c = a - b; c.label='c'\n",
    "\n",
    "\n",
    "\n",
    "\n",
    "draw_dot(c)"
   ]
  },
  {
   "cell_type": "code",
   "execution_count": null,
   "metadata": {},
   "outputs": [],
   "source": []
  }
 ],
 "metadata": {
  "kernelspec": {
   "display_name": ".venv",
   "language": "python",
   "name": "python3"
  },
  "language_info": {
   "codemirror_mode": {
    "name": "ipython",
    "version": 3
   },
   "file_extension": ".py",
   "mimetype": "text/x-python",
   "name": "python",
   "nbconvert_exporter": "python",
   "pygments_lexer": "ipython3",
   "version": "3.11.6"
  },
  "orig_nbformat": 4
 },
 "nbformat": 4,
 "nbformat_minor": 2
}
